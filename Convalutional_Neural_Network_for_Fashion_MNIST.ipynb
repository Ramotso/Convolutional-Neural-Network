{
  "nbformat": 4,
  "nbformat_minor": 0,
  "metadata": {
    "colab": {
      "provenance": [],
      "authorship_tag": "ABX9TyO5H9OyCHIGpEizvALrpQnr",
      "include_colab_link": true
    },
    "kernelspec": {
      "name": "python3",
      "display_name": "Python 3"
    },
    "language_info": {
      "name": "python"
    }
  },
  "cells": [
    {
      "cell_type": "markdown",
      "metadata": {
        "id": "view-in-github",
        "colab_type": "text"
      },
      "source": [
        "<a href=\"https://colab.research.google.com/github/Ramotso/Convolutional-Neural-Network/blob/CNN-for-Fashion-MNIST/Convalutional_Neural_Network_for_Fashion_MNIST.ipynb\" target=\"_parent\"><img src=\"https://colab.research.google.com/assets/colab-badge.svg\" alt=\"Open In Colab\"/></a>"
      ]
    },
    {
      "cell_type": "code",
      "source": [
        "from ast import increment_lineno\n",
        "import sys\n",
        "assert sys.version_info >= (3,5)\n",
        "\n",
        "IS_COLAB = \"google.colab\" in sys.modules\n",
        "IS_KAGGLE = \"kaggle_secrets\" in sys.modules\n",
        "\n",
        "import sklearn\n",
        "assert sklearn.__version__ >= \"0.20\"\n",
        "\n",
        "import tensorflow as tf\n",
        "from tensorflow import keras\n",
        "assert tf.__version__ >= \"2.0\"\n",
        "\n",
        "if not tf.config.list_physical_devices('GPU'):\n",
        "  print(\"No GPU was detected. CNNs can be very slow without a GPU.\")\n",
        "  if IS_COLAB:\n",
        "    print(\"Go to Runtime > Change runtime and select a GPU hardware accelerator.\")\n",
        "  if IS_KAGGLE:\n",
        "    print(\"Go to settings > Accelerator and select GPU.\")\n",
        "\n",
        "import numpy as np\n",
        "import os\n",
        "\n",
        "np.random.seed(42)\n",
        "tf.random.set_seed(42)\n",
        "\n",
        "%matplotlib inline\n",
        "import matplotlib as mpl\n",
        "import matplotlib.pyplot as plt\n",
        "mpl.rc('axes', labelsize=14)\n",
        "mpl.rc('xtick', labelsize=12)\n",
        "mpl.rc('ytick', labelsize=12)\n",
        "\n"
      ],
      "metadata": {
        "colab": {
          "base_uri": "https://localhost:8080/"
        },
        "id": "PAJiPp89UIvo",
        "outputId": "b506cf2b-acd8-4d52-ab41-47b626a19f88"
      },
      "execution_count": 3,
      "outputs": [
        {
          "output_type": "stream",
          "name": "stdout",
          "text": [
            "No GPU was detected. CNNs can be very slow without a GPU.\n",
            "Go to Runtime > Change runtime and select a GPU hardware accelerator.\n"
          ]
        }
      ]
    },
    {
      "cell_type": "code",
      "source": [
        "def plot_image(image):\n",
        "  plt.imshow(image, cmap=\"gray\", interpolation=\"nearest\")\n",
        "  plt.axis(\"off\")\n",
        "\n",
        "def plot_color_image(image):\n",
        "  plt.imshow(image, interpolation=\"nearest\")\n",
        "  plt.axis(\"off\")"
      ],
      "metadata": {
        "id": "VGwDiDgRX4Tb"
      },
      "execution_count": 4,
      "outputs": []
    },
    {
      "cell_type": "code",
      "execution_count": 5,
      "metadata": {
        "colab": {
          "base_uri": "https://localhost:8080/"
        },
        "id": "RHyRZMIxNx0z",
        "outputId": "5968d32b-1c52-46f3-c6e0-fcf95d6effec"
      },
      "outputs": [
        {
          "output_type": "stream",
          "name": "stdout",
          "text": [
            "Downloading data from https://storage.googleapis.com/tensorflow/tf-keras-datasets/train-labels-idx1-ubyte.gz\n",
            "32768/29515 [=================================] - 0s 0us/step\n",
            "40960/29515 [=========================================] - 0s 0us/step\n",
            "Downloading data from https://storage.googleapis.com/tensorflow/tf-keras-datasets/train-images-idx3-ubyte.gz\n",
            "26427392/26421880 [==============================] - 0s 0us/step\n",
            "26435584/26421880 [==============================] - 0s 0us/step\n",
            "Downloading data from https://storage.googleapis.com/tensorflow/tf-keras-datasets/t10k-labels-idx1-ubyte.gz\n",
            "16384/5148 [===============================================================================================] - 0s 0us/step\n",
            "Downloading data from https://storage.googleapis.com/tensorflow/tf-keras-datasets/t10k-images-idx3-ubyte.gz\n",
            "4423680/4422102 [==============================] - 0s 0us/step\n",
            "4431872/4422102 [==============================] - 0s 0us/step\n"
          ]
        }
      ],
      "source": [
        "(X_train_full, y_train_full), (X_test, y_test) = keras.datasets.fashion_mnist.load_data()\n",
        "X_train, X_valid = X_train_full[:-5000], X_train_full[-5000:]\n",
        "y_train, y_valid = y_train_full[:-5000], y_train_full[-5000:]\n",
        "\n",
        "X_mean = X_train.mean(axis=0, keepdims=True)\n",
        "X_std = X_train.std(axis=0, keepdims=True) + 1e-7\n",
        "X_train = (X_train - X_mean) / X_std\n",
        "X_valid = (X_valid - X_mean) / X_std\n",
        "X_test = (X_test - X_mean) / X_std\n",
        "\n",
        "X_train = X_train[..., np.newaxis]\n",
        "X_valid = X_valid[..., np.newaxis]\n",
        "X_test = X_test[..., np.newaxis]"
      ]
    },
    {
      "cell_type": "code",
      "source": [
        "from functools import partial\n",
        "\n",
        "DefaultConv2D = partial(keras.layers.Conv2D, kernel_size=3, activation='relu', padding=\"SAME\")\n",
        "\n",
        "model = keras.models.Sequential([\n",
        "    DefaultConv2D(filters=64, kernel_size=7, input_shape=[28, 28, 1]),\n",
        "    keras.layers.MaxPooling2D(pool_size=2),\n",
        "    DefaultConv2D(filters=128),\n",
        "    DefaultConv2D(filters=128),\n",
        "    keras.layers.MaxPooling2D(pool_size=2),\n",
        "    DefaultConv2D(filters=256),\n",
        "    DefaultConv2D(filters=256),\n",
        "    keras.layers.MaxPooling2D(pool_size=2),\n",
        "    keras.layers.Flatten(),\n",
        "    keras.layers.Dense(units=128, activation='relu'),\n",
        "    keras.layers.Dropout(0.5),\n",
        "    keras.layers.Dense(units=64, activation='relu'),\n",
        "    keras.layers.Dropout(0.5),\n",
        "    keras.layers.Dense(units=10, activation='softmax')\n",
        "])"
      ],
      "metadata": {
        "id": "rMrFqsdyZBWV"
      },
      "execution_count": 7,
      "outputs": []
    },
    {
      "cell_type": "code",
      "source": [
        "model.compile(loss=\"sparse_categorical_crossentropy\",optimizer=\"nadam\", metrics=\"accuracy\")\n",
        "history = model.fit(X_train, y_train, epochs=10, validation_data=(X_valid, y_valid))\n",
        "score = model.evaluate(X_test, y_test)\n",
        "X_new = X_test[:10]\n",
        "y_pred = model.predict(X_new)"
      ],
      "metadata": {
        "colab": {
          "base_uri": "https://localhost:8080/"
        },
        "id": "8l0mdPMxb-So",
        "outputId": "185db3d2-3472-41f2-da03-94ef56eb7392"
      },
      "execution_count": 8,
      "outputs": [
        {
          "output_type": "stream",
          "name": "stdout",
          "text": [
            "Epoch 1/10\n",
            "1719/1719 [==============================] - 678s 393ms/step - loss: 0.7201 - accuracy: 0.7491 - val_loss: 0.3927 - val_accuracy: 0.8548\n",
            "Epoch 2/10\n",
            "1719/1719 [==============================] - 701s 408ms/step - loss: 0.4183 - accuracy: 0.8596 - val_loss: 0.3428 - val_accuracy: 0.8796\n",
            "Epoch 3/10\n",
            "1719/1719 [==============================] - 794s 462ms/step - loss: 0.3608 - accuracy: 0.8791 - val_loss: 0.3243 - val_accuracy: 0.8848\n",
            "Epoch 4/10\n",
            "1719/1719 [==============================] - 660s 384ms/step - loss: 0.3285 - accuracy: 0.8912 - val_loss: 0.2936 - val_accuracy: 0.8968\n",
            "Epoch 5/10\n",
            "1719/1719 [==============================] - 661s 385ms/step - loss: 0.3103 - accuracy: 0.8956 - val_loss: 0.2887 - val_accuracy: 0.8994\n",
            "Epoch 6/10\n",
            "1719/1719 [==============================] - 669s 389ms/step - loss: 0.2891 - accuracy: 0.9023 - val_loss: 0.2838 - val_accuracy: 0.9014\n",
            "Epoch 7/10\n",
            "1719/1719 [==============================] - 668s 388ms/step - loss: 0.2738 - accuracy: 0.9079 - val_loss: 0.2907 - val_accuracy: 0.9044\n",
            "Epoch 8/10\n",
            "1719/1719 [==============================] - 669s 389ms/step - loss: 0.2633 - accuracy: 0.9109 - val_loss: 0.2812 - val_accuracy: 0.9062\n",
            "Epoch 9/10\n",
            "1719/1719 [==============================] - 669s 389ms/step - loss: 0.2465 - accuracy: 0.9168 - val_loss: 0.2971 - val_accuracy: 0.9012\n",
            "Epoch 10/10\n",
            "1719/1719 [==============================] - 667s 388ms/step - loss: 0.2473 - accuracy: 0.9166 - val_loss: 0.2776 - val_accuracy: 0.9062\n",
            "313/313 [==============================] - 30s 95ms/step - loss: 0.2951 - accuracy: 0.9035\n"
          ]
        }
      ]
    }
  ]
}